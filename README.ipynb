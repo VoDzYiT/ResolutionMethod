{
 "cells": [
  {
   "cell_type": "markdown",
   "source": [
    "# Resolution Method for Propositional Logic"
   ],
   "metadata": {
    "collapsed": false
   },
   "id": "b1001b97260ca29c"
  },
  {
   "cell_type": "markdown",
   "source": [
    "A Python implementation of the basic principle of resolution - building a logical conclusion through contradiction. It is limited only to checking direct contradictions between disjuncts"
   ],
   "metadata": {
    "collapsed": false
   },
   "id": "f3b38327a822f2e5"
  },
  {
   "cell_type": "markdown",
   "source": [
    "### What is resolution method\n",
    "\n",
    "The resolution method is a rule that allows us to derive new logical conclusions by combining clauses that contain complementary literals (like A and ¬A). It uses proof by contradiction: we assume the opposite of what we want to prove, and if that leads to a contradiction, the original statement must be true.\n",
    "#### A Simple Example\n",
    "Let’s say we have a sentence:\n",
    "**“If it is sunny, I will go playing.”**\n",
    "Suppose today is sunny, and we want to check if it’s logically valid to conclude that **I will go playing**.  \n",
    "In logic, this whole situation can be represented like:\n",
    "(sunny → play) ∧ sunny ⊢ play\n",
    "*(If it is sunny, I will go playing. It is sunny. So, do I go playing?)*\n",
    "\n",
    "To verify this, we can use the resolution method.\n",
    "\n",
    "- First, convert everything into CNF (Conjunctive Normal Form):\n",
    "sunny → play ≡ ¬sunny ∨ play\n",
    "⊢ play ≡ ¬play (Want to prove play, so we assume ¬play)\n",
    "\n",
    "And how look our set of clauses:\n",
    "`[[¬sunny, play], [sunny], [¬play]]`\n",
    "\n",
    "Resolution steps\n",
    "We take one clause for example `[¬sunny, play]` and another `[sunny]` and looking for contradiction, in our case this is `¬sunny` and `sunny` we eliminate them and create a new clause without them `[play]`. After this we repeat this step with another pair of clauses `[¬play]` and new one `[play]`, this two clauses creates an empty clause `[]` that mean that our sentence is true and I go playing"
   ],
   "metadata": {
    "collapsed": false
   },
   "id": "f9360b65185f8590"
  },
  {
   "cell_type": "code",
   "execution_count": null,
   "outputs": [],
   "source": [],
   "metadata": {
    "collapsed": false
   },
   "id": "95d1ac74ffc9e4af"
  }
 ],
 "metadata": {
  "kernelspec": {
   "display_name": "Python 3",
   "language": "python",
   "name": "python3"
  },
  "language_info": {
   "codemirror_mode": {
    "name": "ipython",
    "version": 2
   },
   "file_extension": ".py",
   "mimetype": "text/x-python",
   "name": "python",
   "nbconvert_exporter": "python",
   "pygments_lexer": "ipython2",
   "version": "2.7.6"
  }
 },
 "nbformat": 4,
 "nbformat_minor": 5
}
